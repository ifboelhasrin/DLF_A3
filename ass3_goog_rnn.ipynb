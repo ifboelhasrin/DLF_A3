{
 "cells": [
  {
   "cell_type": "code",
   "execution_count": 43,
   "metadata": {},
   "outputs": [],
   "source": [
    "%matplotlib inline"
   ]
  },
  {
   "cell_type": "markdown",
   "metadata": {},
   "source": [
    "# Package and dataset loading"
   ]
  },
  {
   "cell_type": "code",
   "execution_count": 44,
   "metadata": {},
   "outputs": [],
   "source": [
    "import torch\n",
    "import torchvision\n",
    "import torchvision.transforms as transforms\n",
    "import numpy as np\n",
    "import matplotlib.pyplot as plt\n",
    "import pandas as pd"
   ]
  },
  {
   "cell_type": "code",
   "execution_count": 45,
   "metadata": {},
   "outputs": [
    {
     "name": "stdout",
     "output_type": "stream",
     "text": [
      "cpu\n"
     ]
    }
   ],
   "source": [
    "device = torch.device(\"cuda:0\" if torch.cuda.is_available() else \"cpu\")\n",
    "print(device)"
   ]
  },
  {
   "cell_type": "code",
   "execution_count": 46,
   "metadata": {},
   "outputs": [
    {
     "data": {
      "text/html": [
       "<div>\n",
       "<style scoped>\n",
       "    .dataframe tbody tr th:only-of-type {\n",
       "        vertical-align: middle;\n",
       "    }\n",
       "\n",
       "    .dataframe tbody tr th {\n",
       "        vertical-align: top;\n",
       "    }\n",
       "\n",
       "    .dataframe thead th {\n",
       "        text-align: right;\n",
       "    }\n",
       "</style>\n",
       "<table border=\"1\" class=\"dataframe\">\n",
       "  <thead>\n",
       "    <tr style=\"text-align: right;\">\n",
       "      <th></th>\n",
       "      <th>Date</th>\n",
       "      <th>Low</th>\n",
       "      <th>Open</th>\n",
       "      <th>Volume</th>\n",
       "      <th>High</th>\n",
       "      <th>Close</th>\n",
       "      <th>Adjusted Close</th>\n",
       "    </tr>\n",
       "  </thead>\n",
       "  <tbody>\n",
       "    <tr>\n",
       "      <th>0</th>\n",
       "      <td>19-08-2004</td>\n",
       "      <td>2.390042</td>\n",
       "      <td>2.490664</td>\n",
       "      <td>897427216</td>\n",
       "      <td>2.591785</td>\n",
       "      <td>2.499133</td>\n",
       "      <td>2.499133</td>\n",
       "    </tr>\n",
       "    <tr>\n",
       "      <th>1</th>\n",
       "      <td>20-08-2004</td>\n",
       "      <td>2.503118</td>\n",
       "      <td>2.515820</td>\n",
       "      <td>458857488</td>\n",
       "      <td>2.716817</td>\n",
       "      <td>2.697639</td>\n",
       "      <td>2.697639</td>\n",
       "    </tr>\n",
       "    <tr>\n",
       "      <th>2</th>\n",
       "      <td>23-08-2004</td>\n",
       "      <td>2.716070</td>\n",
       "      <td>2.758411</td>\n",
       "      <td>366857939</td>\n",
       "      <td>2.826406</td>\n",
       "      <td>2.724787</td>\n",
       "      <td>2.724787</td>\n",
       "    </tr>\n",
       "    <tr>\n",
       "      <th>3</th>\n",
       "      <td>24-08-2004</td>\n",
       "      <td>2.579581</td>\n",
       "      <td>2.770615</td>\n",
       "      <td>306396159</td>\n",
       "      <td>2.779581</td>\n",
       "      <td>2.611960</td>\n",
       "      <td>2.611960</td>\n",
       "    </tr>\n",
       "    <tr>\n",
       "      <th>4</th>\n",
       "      <td>25-08-2004</td>\n",
       "      <td>2.587302</td>\n",
       "      <td>2.614201</td>\n",
       "      <td>184645512</td>\n",
       "      <td>2.689918</td>\n",
       "      <td>2.640104</td>\n",
       "      <td>2.640104</td>\n",
       "    </tr>\n",
       "  </tbody>\n",
       "</table>\n",
       "</div>"
      ],
      "text/plain": [
       "         Date       Low      Open     Volume      High     Close  \\\n",
       "0  19-08-2004  2.390042  2.490664  897427216  2.591785  2.499133   \n",
       "1  20-08-2004  2.503118  2.515820  458857488  2.716817  2.697639   \n",
       "2  23-08-2004  2.716070  2.758411  366857939  2.826406  2.724787   \n",
       "3  24-08-2004  2.579581  2.770615  306396159  2.779581  2.611960   \n",
       "4  25-08-2004  2.587302  2.614201  184645512  2.689918  2.640104   \n",
       "\n",
       "   Adjusted Close  \n",
       "0        2.499133  \n",
       "1        2.697639  \n",
       "2        2.724787  \n",
       "3        2.611960  \n",
       "4        2.640104  "
      ]
     },
     "execution_count": 46,
     "metadata": {},
     "output_type": "execute_result"
    }
   ],
   "source": [
    "# Load GOOG stock data\n",
    "\n",
    "path = 'data/stock_market_data/GOOG.csv'\n",
    "data = pd.read_csv(path)\n",
    "\n",
    "data.head()"
   ]
  },
  {
   "cell_type": "code",
   "execution_count": 47,
   "metadata": {},
   "outputs": [],
   "source": [
    "# Data preprocessing\n",
    "\n",
    "from sklearn.preprocessing import MinMaxScaler\n",
    "price = data[['Close']].copy()\n",
    "scaler = MinMaxScaler(feature_range=(-1, 1))\n",
    "price['Close'] = scaler.fit_transform(price['Close'].values.reshape(-1,1))"
   ]
  },
  {
   "cell_type": "code",
   "execution_count": 48,
   "metadata": {},
   "outputs": [],
   "source": [
    "# Split data into training and test set with sliding window method\n",
    "\n",
    "def split_data(stock, lookback):\n",
    "    data_raw = stock.to_numpy() # convert to numpy array\n",
    "    data = []\n",
    "    \n",
    "    # create all possible sequences of length seq_len\n",
    "    for index in range(len(data_raw) - lookback): \n",
    "        data.append(data_raw[index: index + lookback])\n",
    "    \n",
    "    data = np.array(data)\n",
    "    test_set_size = int(np.round(0.2*data.shape[0]))\n",
    "    train_set_size = data.shape[0] - (test_set_size)\n",
    "    \n",
    "    x_train = data[:train_set_size,:-1,:]\n",
    "    y_train = data[:train_set_size,-1,:]\n",
    "    \n",
    "    x_test = data[train_set_size:,:-1]\n",
    "    y_test = data[train_set_size:,-1,:]\n",
    "    \n",
    "    return [x_train, y_train, x_test, y_test]\n",
    "lookback = 20 # choose sequence length\n",
    "x_train, y_train, x_test, y_test = split_data(price, lookback)"
   ]
  },
  {
   "cell_type": "code",
   "execution_count": 49,
   "metadata": {},
   "outputs": [],
   "source": [
    "# Convert to tensor\n",
    "x_train = torch.from_numpy(x_train).type(torch.Tensor)\n",
    "x_test = torch.from_numpy(x_test).type(torch.Tensor)\n",
    "y_train_rnn = torch.from_numpy(y_train).type(torch.Tensor)\n",
    "y_test_rnn = torch.from_numpy(y_test).type(torch.Tensor)\n",
    "\n",
    "# Param values\n",
    "input_dim = 1\n",
    "hidden_dim = 32\n",
    "num_layers = 2\n",
    "output_dim = 1\n",
    "num_epochs = 100"
   ]
  },
  {
   "cell_type": "code",
   "execution_count": 50,
   "metadata": {},
   "outputs": [],
   "source": [
    "# Define RNN\n",
    "import torch.nn as nn\n",
    "\n",
    "class RNN(nn.Module):\n",
    "    def __init__(self, input_dim, hidden_dim, num_layers, output_dim):\n",
    "        super(RNN, self).__init__()\n",
    "        self.hidden_dim = hidden_dim\n",
    "        self.num_layers = num_layers\n",
    "        \n",
    "        self.rnn = nn.RNN(input_dim, hidden_dim, num_layers, batch_first=True)\n",
    "        self.fc = nn.Linear(hidden_dim, output_dim)\n",
    "        \n",
    "    def forward(self, x):\n",
    "        h0 = torch.zeros(self.num_layers, x.size(0), self.hidden_dim).to(device)\n",
    "        out, _ = self.rnn(x, h0)\n",
    "        out = self.fc(out[:, -1, :]) \n",
    "        return out\n",
    "    \n",
    "# Create the model\n",
    "model = RNN(input_dim=input_dim, hidden_dim=hidden_dim, output_dim=output_dim, num_layers=num_layers)\n",
    "criterion = torch.nn.MSELoss(reduction='mean')\n",
    "optimiser = torch.optim.Adam(model.parameters(), lr=0.01)"
   ]
  },
  {
   "cell_type": "code",
   "execution_count": 51,
   "metadata": {},
   "outputs": [
    {
     "name": "stdout",
     "output_type": "stream",
     "text": [
      "Epoch  0 MSE:  0.9625499844551086\n",
      "Epoch  1 MSE:  0.29830819368362427\n",
      "Epoch  2 MSE:  0.04420257732272148\n",
      "Epoch  3 MSE:  0.19041599333286285\n",
      "Epoch  4 MSE:  0.08782259374856949\n",
      "Epoch  5 MSE:  0.04459116607904434\n",
      "Epoch  6 MSE:  0.0985925942659378\n",
      "Epoch  7 MSE:  0.10160929709672928\n",
      "Epoch  8 MSE:  0.06417827308177948\n",
      "Epoch  9 MSE:  0.03930319473147392\n",
      "Epoch  10 MSE:  0.04674357548356056\n",
      "Epoch  11 MSE:  0.06349261850118637\n",
      "Epoch  12 MSE:  0.06237282603979111\n",
      "Epoch  13 MSE:  0.04738380387425423\n",
      "Epoch  14 MSE:  0.03757352754473686\n",
      "Epoch  15 MSE:  0.04166719689965248\n",
      "Epoch  16 MSE:  0.05011344701051712\n",
      "Epoch  17 MSE:  0.0508883036673069\n",
      "Epoch  18 MSE:  0.0443853922188282\n",
      "Epoch  19 MSE:  0.03778804466128349\n",
      "Epoch  20 MSE:  0.03612086549401283\n",
      "Epoch  21 MSE:  0.038707148283720016\n",
      "Epoch  22 MSE:  0.04139162227511406\n",
      "Epoch  23 MSE:  0.040993500500917435\n",
      "Epoch  24 MSE:  0.03785589337348938\n",
      "Epoch  25 MSE:  0.03468741476535797\n",
      "Epoch  26 MSE:  0.033633142709732056\n",
      "Epoch  27 MSE:  0.03459304943680763\n",
      "Epoch  28 MSE:  0.03578644618391991\n",
      "Epoch  29 MSE:  0.03550343215465546\n",
      "Epoch  30 MSE:  0.03347364813089371\n",
      "Epoch  31 MSE:  0.030909979715943336\n",
      "Epoch  32 MSE:  0.029309013858437538\n",
      "Epoch  33 MSE:  0.028995856642723083\n",
      "Epoch  34 MSE:  0.028758132830262184\n",
      "Epoch  35 MSE:  0.027165569365024567\n",
      "Epoch  36 MSE:  0.024375008419156075\n",
      "Epoch  37 MSE:  0.02218344435095787\n",
      "Epoch  38 MSE:  0.021522652357816696\n",
      "Epoch  39 MSE:  0.02026984840631485\n",
      "Epoch  40 MSE:  0.01651856116950512\n",
      "Epoch  41 MSE:  0.013005716726183891\n",
      "Epoch  42 MSE:  0.011227325536310673\n",
      "Epoch  43 MSE:  0.006962345447391272\n",
      "Epoch  44 MSE:  0.0033788105938583612\n",
      "Epoch  45 MSE:  0.002983070444315672\n",
      "Epoch  46 MSE:  0.003286290680989623\n",
      "Epoch  47 MSE:  0.0057245162315666676\n",
      "Epoch  48 MSE:  0.009244455955922604\n",
      "Epoch  49 MSE:  0.0036994246765971184\n",
      "Epoch  50 MSE:  0.0014648187207058072\n",
      "Epoch  51 MSE:  0.0014590492937713861\n",
      "Epoch  52 MSE:  0.002256629290059209\n",
      "Epoch  53 MSE:  0.0018571175169199705\n",
      "Epoch  54 MSE:  0.0033657557796686888\n",
      "Epoch  55 MSE:  0.002662349259480834\n",
      "Epoch  56 MSE:  0.0029101124964654446\n",
      "Epoch  57 MSE:  0.0029612064827233553\n",
      "Epoch  58 MSE:  0.001913029933348298\n",
      "Epoch  59 MSE:  0.0021136554423719645\n",
      "Epoch  60 MSE:  0.0011628431966528296\n",
      "Epoch  61 MSE:  0.0009118809248320758\n",
      "Epoch  62 MSE:  0.000729049788787961\n",
      "Epoch  63 MSE:  0.00036237077438272536\n",
      "Epoch  64 MSE:  0.0008013074984773993\n",
      "Epoch  65 MSE:  0.0006213291198946536\n",
      "Epoch  66 MSE:  0.0011633607791736722\n",
      "Epoch  67 MSE:  0.0008915841463021934\n",
      "Epoch  68 MSE:  0.0010648324387148023\n",
      "Epoch  69 MSE:  0.0006300764507614076\n",
      "Epoch  70 MSE:  0.0006329743773676455\n",
      "Epoch  71 MSE:  0.00029384734807536006\n",
      "Epoch  72 MSE:  0.0004116344207432121\n",
      "Epoch  73 MSE:  0.0002369033027207479\n",
      "Epoch  74 MSE:  0.0004568404983729124\n",
      "Epoch  75 MSE:  0.000346252229064703\n",
      "Epoch  76 MSE:  0.0005266359075903893\n",
      "Epoch  77 MSE:  0.00042576182750053704\n",
      "Epoch  78 MSE:  0.0004885062226094306\n",
      "Epoch  79 MSE:  0.0003968421369791031\n",
      "Epoch  80 MSE:  0.0003610946296248585\n",
      "Epoch  81 MSE:  0.00030348729342222214\n",
      "Epoch  82 MSE:  0.00024176901206374168\n",
      "Epoch  83 MSE:  0.00023957846860866994\n",
      "Epoch  84 MSE:  0.0002060677797999233\n",
      "Epoch  85 MSE:  0.0002466068253852427\n",
      "Epoch  86 MSE:  0.00023978480021469295\n",
      "Epoch  87 MSE:  0.0002760786155704409\n",
      "Epoch  88 MSE:  0.00026225208421237767\n",
      "Epoch  89 MSE:  0.000262063171248883\n",
      "Epoch  90 MSE:  0.0002347771660424769\n",
      "Epoch  91 MSE:  0.00021375672076828778\n",
      "Epoch  92 MSE:  0.00019530885037966073\n",
      "Epoch  93 MSE:  0.00018195825396105647\n",
      "Epoch  94 MSE:  0.0001834792346926406\n",
      "Epoch  95 MSE:  0.00018261601508129388\n",
      "Epoch  96 MSE:  0.00019295029051136225\n",
      "Epoch  97 MSE:  0.00019219523528590798\n",
      "Epoch  98 MSE:  0.00019742742006201297\n",
      "Epoch  99 MSE:  0.00018819996330421418\n",
      "Training time: 3.4259567260742188\n"
     ]
    }
   ],
   "source": [
    "import time\n",
    "hist = np.zeros(num_epochs)\n",
    "start_time = time.time()\n",
    "for t in range(num_epochs):\n",
    "    y_train_pred = model(x_train)\n",
    "    loss = criterion(y_train_pred, y_train_rnn)\n",
    "    print(\"Epoch \", t, \"MSE: \", loss.item())\n",
    "    hist[t] = loss.item()\n",
    "    optimiser.zero_grad()\n",
    "    loss.backward()\n",
    "    optimiser.step()\n",
    "    \n",
    "training_time = time.time()-start_time\n",
    "print(\"Training time: {}\".format(training_time))"
   ]
  },
  {
   "cell_type": "code",
   "execution_count": 52,
   "metadata": {},
   "outputs": [
    {
     "data": {
      "text/plain": [
       "[<matplotlib.lines.Line2D at 0x1c9290ce9d0>]"
      ]
     },
     "execution_count": 52,
     "metadata": {},
     "output_type": "execute_result"
    },
    {
     "data": {
      "image/png": "[encoded data removed]",
      "text/plain": [
       "<Figure size 640x480 with 1 Axes>"
      ]
     },
     "metadata": {},
     "output_type": "display_data"
    }
   ],
   "source": [
    "# Display training loss graph\n",
    "plt.plot(hist, label=\"Training loss\")"
   ]
  },
  {
   "cell_type": "code",
   "execution_count": 53,
   "metadata": {},
   "outputs": [
    {
     "data": {
      "image/png": "[encoded data removed]",
      "text/plain": [
       "<Figure size 640x480 with 1 Axes>"
      ]
     },
     "metadata": {},
     "output_type": "display_data"
    }
   ],
   "source": [
    "# Display stock price prediction vs data\n",
    "y_test_pred = model(x_test)\n",
    "plt.plot(y_test_pred.detach().numpy(), label=\"Predicted\")\n",
    "plt.plot(y_test_rnn.numpy(), label=\"Actual\")\n",
    "plt.legend()\n",
    "plt.show()"
   ]
  }
 ],
 "metadata": {
  "kernelspec": {
   "display_name": ".venv",
   "language": "python",
   "name": "python3"
  },
  "language_info": {
   "codemirror_mode": {
    "name": "ipython",
    "version": 3
   },
   "file_extension": ".py",
   "mimetype": "text/x-python",
   "name": "python",
   "nbconvert_exporter": "python",
   "pygments_lexer": "ipython3",
   "version": "3.11.9"
  }
 },
 "nbformat": 4,
 "nbformat_minor": 2
}
